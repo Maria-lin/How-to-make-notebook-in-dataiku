{
  "nbformat": 4,
  "nbformat_minor": 0,
  "metadata": {
    "colab": {
      "provenance": [],
      "authorship_tag": "ABX9TyMSMx5PeEN5+o/7xEGAM1Gl",
      "include_colab_link": true
    },
    "kernelspec": {
      "name": "python3",
      "display_name": "Python 3"
    },
    "language_info": {
      "name": "python"
    }
  },
  "cells": [
    {
      "cell_type": "markdown",
      "metadata": {
        "id": "view-in-github",
        "colab_type": "text"
      },
      "source": [
        "<a href=\"https://colab.research.google.com/github/Maria-lin/How-to-make-notebook-in-dataiku/blob/main/lesfonctions.ipynb\" target=\"_parent\"><img src=\"https://colab.research.google.com/assets/colab-badge.svg\" alt=\"Open In Colab\"/></a>"
      ]
    },
    {
      "cell_type": "code",
      "execution_count": 1,
      "metadata": {
        "id": "ps8B7lT2_Nud"
      },
      "outputs": [],
      "source": [
        "import pandas as pd\n",
        "\n",
        "def repartition_requetes(df, date_x, colonne_date='date', colonne_circuit='circuit'):\n",
        "    \"\"\"\n",
        "    Calcule pour chaque circuit à une date donnée :\n",
        "    - le nombre de requêtes\n",
        "    - le total des requêtes pour cette date (nb_requetes_max)\n",
        "    - le pourcentage de chaque circuit\n",
        "    \"\"\"\n",
        "    # Filtrer les données sur la date demandée\n",
        "    df_filtre = df[df[colonne_date] == date_x]\n",
        "\n",
        "    # Si aucune donnée pour cette date, retourner un df vide\n",
        "    if df_filtre.empty:\n",
        "        return pd.DataFrame(columns=[colonne_date, colonne_circuit, 'nb_requetes', 'nb_requetes_max', 'pourcentage'])\n",
        "\n",
        "    # Compter le nombre de requêtes par circuit\n",
        "    counts = (\n",
        "        df_filtre.groupby(colonne_circuit)\n",
        "        .size()\n",
        "        .reset_index(name='nb_requetes')\n",
        "        .sort_values(by='nb_requetes', ascending=False)\n",
        "    )\n",
        "\n",
        "    # Calcul du total pour la date\n",
        "    total_requetes = counts['nb_requetes'].sum()\n",
        "\n",
        "    # Ajouter les colonnes demandées\n",
        "    counts['nb_requetes_max'] = total_requetes\n",
        "    counts['pourcentage'] = (counts['nb_requetes'] / total_requetes * 100).round(1)\n",
        "    counts.insert(0, colonne_date, date_x)\n",
        "\n",
        "    return counts.reset_index(drop=True)\n"
      ]
    }
  ]
}